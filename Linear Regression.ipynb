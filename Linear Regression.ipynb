import numpy as np 
import matplotlib.pyplot as plt 
num_data= 150 
np.random.seed(1)
x = np.sort(10*np.random.rand(num_data)-5)
y = 0.8* X - 2.3 + np.random.rand(num_data)
plt.scatter(x,y)
plt.show()

def linear_model(w1 = 0, w0 = 0): 
    return lambda x: w1 * x +w0 
